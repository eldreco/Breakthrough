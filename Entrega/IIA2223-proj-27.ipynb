{
 "cells": [
  {
   "cell_type": "markdown",
   "metadata": {
    "colab_type": "text",
    "id": "LekFEsVbua_R"
   },
   "source": [
    "#  Jogo BreakThrough\n",
    "\n",
    "## Introdução à Inteligência Artificial edição 2022/23\n",
    "### Projeto para avaliação\n",
    "\n",
    "<img src=\".\\images\\Picture0.png\" alt=\"Drawing\" style=\"width: 200px;\"/>"
   ]
  },
  {
   "cell_type": "markdown",
   "metadata": {},
   "source": [
    "### Grupo: 27\n",
    "\n",
    "#### Elementos do Grupo\n",
    "\n",
    "Nome: André Dias\n",
    "\n",
    "Número: 55314\n",
    "\n",
    "Nome: Miguel Cut\n",
    "\n",
    "Número: 56339\n",
    "\n",
    "Nome: David Pereira\n",
    "\n",
    "Número: 56361"
   ]
  },
  {
   "cell_type": "markdown",
   "metadata": {},
   "source": [
    "## Introdução\n",
    "Este trabalho foi feita do âmbito da disciplina Introdução à Inteligência Artifical e divide-se em duas partes principais. A primeira parte consiste na implementação do jogo BreakTrough. Já a segunda parte consiste na criação de um jogador inteligente para o jogo."
   ]
  },
  {
   "cell_type": "markdown",
   "metadata": {},
   "source": [
    "## Formulação do Jogo BreakThrough em termos de estados e de operadores"
   ]
  },
  {
   "cell_type": "markdown",
   "metadata": {},
   "source": [
    "### Representação dos estados do jogo"
   ]
  },
  {
   "cell_type": "markdown",
   "metadata": {},
   "source": [
    "De forma a representar o estado do jogo Breaktrough, e já pensando em possíveis formas de facilitar a implementação futura de jogadores, decidimos utilizar um namedTuple com os seguintes atributos:\n",
    "\n",
    "    -to_move: Indica o próximo jogador a efetuar uma jogado. Tem o valor 1 para as peças brancas e 2 para as pretas;\n",
    "    -utility: Indica o vencedor do jogo. Tem o valor de 1 para as peças brancas e -1 para as peças pretas;\n",
    "    -board: Representa o estado atual do jogo. Tem registo de todas as peças em jogo bem como da sua posição;\n",
    "    -whites: Mapa com apenas as peças brancas\n",
    "    -blacks: Mapa com apenas as peças pretas\n",
    "    -col_whites: Mapa com o número de peças brancas em cada coluna;\n",
    "    -col_blacks: Mapa com o número de peças pretas em cada coluna;\n",
    "    -line_whites: Mapa com o número de peças brancas em cada linha;\n",
    "    -line_blacks: Mapa com o número de peças pretas em cada linha;\n",
    "\n",
    "Sendo representado no código por:\n",
    "\n",
    "```python\n",
    "EstadoBT_27(to_move, utility, board, whites, blacks, col_whites, col_blacks, line_whites, line_blacks)\n",
    "```"
   ]
  },
  {
   "cell_type": "markdown",
   "metadata": {},
   "source": [
    "### Testes da formulação"
   ]
  },
  {
   "cell_type": "markdown",
   "metadata": {},
   "source": [
    "Antes de mais, é necessário importar as classes e métodos necessários para o funcionamento do jogo:"
   ]
  },
  {
   "cell_type": "code",
   "execution_count": 31,
   "metadata": {},
   "outputs": [],
   "source": [
    "import importlib\n",
    "a = 'IIA2223-proj-tudo-27'.split('.')[0]\n",
    "module = importlib.import_module(a)\n",
    "globals().update(module.__dict__)"
   ]
  },
  {
   "cell_type": "markdown",
   "metadata": {},
   "source": [
    "#### Situações iniciais dos jogos\n",
    "Uso do construtor e \"display\" de jogos iniciais"
   ]
  },
  {
   "cell_type": "code",
   "execution_count": 32,
   "metadata": {},
   "outputs": [],
   "source": [
    "jogoBT = JogoBT_27()"
   ]
  },
  {
   "cell_type": "markdown",
   "metadata": {},
   "source": [
    "Construção de um novo jogo com a situação inicial seguinte:\n",
    "\n",
    "<img src=\".\\images\\Picture1.png\" alt=\"Drawing\" style=\"width: 150px;\"/>\n",
    "<p style=\"text-align: center;\">Figura 1</p>"
   ]
  },
  {
   "cell_type": "markdown",
   "metadata": {},
   "source": [
    "Eis o display desse estado inicial do jogo:"
   ]
  },
  {
   "cell_type": "code",
   "execution_count": 33,
   "metadata": {},
   "outputs": [
    {
     "name": "stdout",
     "output_type": "stream",
     "text": [
      "-----------------\n",
      "8|B B B B B B B B \n",
      "7|B B B B B B B B \n",
      "6|. . . . . . . . \n",
      "5|. . . . . . . . \n",
      "4|. . . . . . . . \n",
      "3|. . . . . . . . \n",
      "2|W W W W W W W W \n",
      "1|W W W W W W W W \n",
      "-+---------------\n",
      " |a b c d e f g h\n",
      "--NEXT PLAYER: W\n"
     ]
    }
   ],
   "source": [
    "jogoBT.display(jogoBT.initial)"
   ]
  },
  {
   "cell_type": "markdown",
   "metadata": {},
   "source": [
    "## Jogos entre jogadores simples\n",
    "Nesta secção irão realizar alguns jogos, para verificar a modelização"
   ]
  },
  {
   "cell_type": "code",
   "execution_count": 34,
   "metadata": {},
   "outputs": [],
   "source": [
    "jogadorRandom1 = Jogador('Random1', random_player)\n",
    "jogadorRandom2 = Jogador('Random2', random_player)\n",
    "\n",
    "result12 = joga11(jogoBT, jogadorRandom1, jogadorRandom2)\n",
    "result21 = joga11(jogoBT, jogadorRandom2, jogadorRandom1)"
   ]
  },
  {
   "cell_type": "markdown",
   "metadata": {},
   "source": [
    "Faça o display de um dos jogos realizados atrás"
   ]
  },
  {
   "cell_type": "code",
   "execution_count": 35,
   "metadata": {},
   "outputs": [
    {
     "name": "stdout",
     "output_type": "stream",
     "text": [
      "(('Random1', 'Random2'), ['a2-a3', 'b7-a6', 'd2-d3', 'g7-g6', 'd3-d4', 'g6-g5', 'd4-d5', 'h8-g7', 'e1-d2', 'g7-f6', 'e2-d3', 'f7-e6', 'f1-e2', 'g5-g4', 'd3-e4', 'g8-g7', 'd2-d3', 'f6-f5', 'c1-d2', 'c8-b7', 'b1-a2', 'g4-h3', 'a3-a4', 'f5-f4', 'h2-g3', 'b7-c6', 'b2-b3', 'c6-d5', 'a1-b2', 'b8-b7', 'g1-h2', 'c7-b6', 'a4-b5', 'd8-c7', 'g3-h4', 'd5-d4', 'd2-e3', 'b6-c5', 'b5-b6', 'c5-c4', 'h4-h5', 'a6-a5', 'f2-g3', 'c4-c3', 'e3-d4', 'c7-c6', 'h5-h6', 'f4-g3', 'e4-f5', 'c6-c5', 'f5-g6', 'e6-f5', 'd4-c5', 'e7-d6', 'h6-g7', 'a5-a4', 'd3-c4', 'e8-f7', 'c2-d3', 'd6-d5', 'e2-e3', 'd7-d6', 'd3-d4', 'b7-c6', 'c5-d6', 'c3-d2', 'c4-c5', 'a7-b6', 'g7-f8'], 1)\n",
      "------------------------------------------\n",
      "(('Random2', 'Random1'), ['a2-b3', 'c7-d6', 'e2-d3', 'a7-b6', 'b1-a2', 'g7-f6', 'f2-f3', 'b7-a6', 'g2-h3', 'g8-g7', 'b2-a3', 'd6-e5', 'f3-f4', 'c8-b7', 'h3-g4', 'a8-a7', 'a3-b4', 'b8-c7', 'f4-g5', 'e5-e4', 'h2-g3', 'b6-c5', 'b3-c4', 'a7-b6', 'c2-c3', 'b6-b5', 'g1-h2', 'b7-c6', 'g3-h4', 'b5-c4', 'g5-h6', 'f6-f5', 'c1-b2', 'f5-f4', 'd3-e4', 'a6-a5', 'e1-e2', 'f7-e6', 'g4-h5', 'g7-g6', 'c3-d4', 'd7-d6', 'e2-e3', 'g6-h5', 'b2-a3', 'e7-f6', 'f1-f2', 'd8-e7', 'b4-c5', 'e8-f7', 'c5-d6', 'c6-c5', 'f2-f3', 'c7-d6', 'h2-h3', 'c4-c3', 'h1-g2', 'a5-a4', 'a3-b4', 'c5-b4', 'a1-b2', 'c3-d2', 'g2-g3', 'h7-g6', 'b2-b3', 'a4-a3', 'd4-d5', 'd2-e1'], -1)\n"
     ]
    }
   ],
   "source": [
    "print(result12)\n",
    "print('------------------------------------------')\n",
    "print(result21)"
   ]
  },
  {
   "cell_type": "markdown",
   "metadata": {},
   "source": [
    "## Exemplos de jogadores alfabeta\n",
    " Descreva e teste nesta secção as várias funções de avaliação desenvolvidas tanto para o ataque como para a defesa."
   ]
  },
  {
   "cell_type": "markdown",
   "metadata": {},
   "source": [
    "Ao longo do projeto desenvolvemos vários tipos de jogadores. Uns mais focados na defesa, uns mais focados no ataque e alguns que tentavam chegar a um consenso entre os dois métodos. Segue-se a descrição dos vários jogadores por nós criados, bem como exemplos do seu tipo de jogadas."
   ]
  },
  {
   "cell_type": "code",
   "execution_count": 36,
   "metadata": {},
   "outputs": [],
   "source": [
    "#Agressivo - Este jogador tem como objetivo avançar o mais para a frente possível, ocupando as colunas ímpares e \n",
    "#capturando peças ao adversário sempre que tiver oportunidade.\n",
    "\n",
    "Agressivo = JogadorAlfaBeta('Agressivo', 1, func_aval_agressivo_27)\n",
    "\n",
    "#Escolha - Este jogador tem uma componente agressiva e defensiva. A componente agressiva é executada se o jogador\n",
    "#começar nas peças brancas. Já a componente defensiva é executada caso o jogador comece nas peças pretas. A componente\n",
    "#agressiva consiste no jogador agressivo demonstrado anteriormente e a componente defensiva consiste em jogar de forma\n",
    "#passiva, ficando avnçando o minimo possível e comemendo peças sempre que exista oportunidade.\n",
    "\n",
    "Escolha = JogadorAlfaBeta('Escolha', 1, func_aval_escolha_27)\n",
    "\n",
    "#Misto - Este jogador apresenta aspetos dos dois anteriores, porém, não está dependente da peça em que começa.\n",
    "# O jogador avalia o estado, decidindo se é preferível atacar e avançar, ou jogar com calma e defender.\n",
    "\n",
    "Misto = JogadorAlfaBeta('Misto', 1, func_aval_Misto_27)\n",
    "\n",
    "#Belarmino - Este é o jogador base, cujo funcionamento foi descrito pelos professores.\n",
    "\n",
    "Belarmino = JogadorAlfaBeta('Belarmino', 1, func_aval_Belarmino_27)"
   ]
  },
  {
   "cell_type": "markdown",
   "metadata": {},
   "source": [
    "## Exemplos de jogos entre alguns desses jogadores e o Belarmino"
   ]
  },
  {
   "cell_type": "code",
   "execution_count": 37,
   "metadata": {},
   "outputs": [
    {
     "name": "stdout",
     "output_type": "stream",
     "text": [
      "(('Agressivo', 'Belarmino'), ['a2-b3', 'f7-f6', 'h2-g3', 'f6-g5', 'e2-f3', 'b7-b6', 'd2-c3', 'b6-a5', 'h1-h2', 'd7-d6', 'h2-h3', 'd6-e5', 'h3-g4', 'c7-d6', 'a1-a2', 'd6-c5', 'a2-a3', 'g7-g6', 'a3-a4', 'h7-h6', 'a4-b5', 'e7-f6', 'b5-c6', 'a7-b6', 'd1-e2', 'b6-b5', 'e2-d3', 'f8-f7', 'd3-e4', 'f7-e6', 'e1-e2', 'g8-g7', 'e2-e3', 'b8-a7', 'c2-d3', 'a7-a6', 'b1-c2', 'h8-h7', 'c1-d2', 'd8-c7', 'f1-e2', 'c7-b6', 'c6-c7', 'e8-d7', 'c7-b8'], 1)\n",
      "-----------------\n",
      "(('Escolha', 'Belarmino'), ['h2-g3', 'b7-a6', 'a2-b3', 'a6-b5', 'c2-d3', 'b5-b4', 'f2-e3', 'h7-h6', 'd3-d4', 'h6-h5', 'd4-d5', 'h5-g4', 'e3-e4', 'f7-g6', 'e4-e5', 'g6-g5', 'd2-e3', 'c7-b6', 'c1-d2', 'b6-b5', 'e3-e4', 'g7-g6', 'e2-d3', 'g6-h5', 'f1-e2', 'a7-a6', 'd3-d4', 'a6-a5', 'd2-e3', 'f8-g7', 'e2-d3', 'g7-g6', 'd1-d2', 'b8-c7', 'e1-e2', 'c7-b6', 'e5-d6', 'e7-f6', 'd4-e5', 'f6-e5', 'e3-d4', 'e5-d4', 'e2-e3', 'g5-f4', 'd5-e6', 'f4-g3', 'e6-d7', 'a5-a4', 'd7-c8'], 1)\n",
      "-----------------\n",
      "(('Misto', 'Belarmino'), ['c2-b3', 'e7-d6', 'h2-g3', 'd6-c5', 'f2-e3', 'c5-b4', 'g3-g4', 'a7-a6', 'g4-g5', 'a6-b5', 'g5-g6', 'h7-g6', 'e3-d4', 'g6-h5', 'd4-e5', 'h5-g4', 'e5-d6', 'g4-g3', 'd6-c7', 'd7-e6', 'c7-b8'], 1)\n"
     ]
    }
   ],
   "source": [
    "agressivoVSbelarmino = joga11(jogoBT, Agressivo, Belarmino)\n",
    "\n",
    "print(agressivoVSbelarmino)\n",
    "\n",
    "print('-----------------')\n",
    "\n",
    "EscolhaVSbelarmino = joga11(jogoBT, Escolha, Belarmino)\n",
    "\n",
    "print(EscolhaVSbelarmino)\n",
    "\n",
    "print('-----------------')\n",
    "\n",
    "MistoVSbelarmino = joga11(jogoBT, Misto, Belarmino)\n",
    "\n",
    "print(MistoVSbelarmino)\n"
   ]
  },
  {
   "cell_type": "markdown",
   "metadata": {},
   "source": [
    "## Exemplos de jogos entre dois dos vários jogadores desenvolvidos"
   ]
  },
  {
   "cell_type": "code",
   "execution_count": 38,
   "metadata": {},
   "outputs": [
    {
     "name": "stdout",
     "output_type": "stream",
     "text": [
      "(('Agressivo', 'Escolha'), ['h2-g3', 'a7-b6', 'a2-b3', 'h7-g6', 'e2-f3', 'c7-d6', 'd2-c3', 'f7-e6', 'h1-h2', 'h8-h7', 'h2-h3', 'a8-a7', 'h3-g4', 'a7-a6', 'a1-a2', 'a6-b5', 'a2-a3', 'h7-h6', 'a3-b4', 'h6-g5', 'd1-e2', 'c8-c7', 'e2-d3', 'f8-f7', 'd3-d4', 'f7-f6', 'e1-e2', 'f6-e5', 'd4-e5', 'c7-c6', 'e5-d6', 'c6-d5', 'd6-e7', 'g8-h7', 'e7-d8'], 1)\n",
      "---------------------------\n",
      "(('Agressivo', 'Misto'), ['h2-g3', 'h7-g6', 'a2-b3', 'a7-b6', 'e2-f3', 'c7-d6', 'd2-c3', 'f7-e6', 'a1-a2', 'g6-g5', 'a2-a3', 'b6-b5', 'a3-b4', 'd6-d5', 'h1-h2', 'd5-d4', 'c3-d4', 'e6-d5', 'd4-c5', 'd5-e4', 'f3-e4', 'g5-g4', 'e4-f5', 'g4-f3', 'g2-f3', 'b5-c4', 'b3-c4', 'h8-h7', 'c5-b6', 'e7-d6', 'h2-h3', 'f8-e7', 'h3-g4', 'd6-d5', 'c4-d5', 'h7-h6', 'f5-g6', 'h6-g5', 'e1-d2', 'g5-h4', 'g3-h4', 'e7-d6', 'h4-g5', 'd6-e5', 'd2-c3', 'e5-d4', 'c3-d4', 'd7-d6', 'd5-e6', 'c8-d7', 'e6-d7', 'e8-d7', 'd4-d5', 'd6-e5', 'd5-d6', 'e5-e4', 'f3-e4', 'd7-e6', 'd6-d7', 'e6-e5', 'd7-c8'], 1)\n",
      "---------------------------\n",
      "(('Misto', 'Escolha'), ['a2-b3', 'h7-g6', 'h2-g3', 'a7-b6', 'c2-d3', 'c7-d6', 'f2-e3', 'f7-e6', 'b3-b4', 'h8-h7', 'b4-b5', 'h7-h6', 'b5-c6', 'h6-g5', 'c6-d7', 'b6-c5', 'd7-e8'], 1)\n",
      "---------------------------\n",
      "(('Misto', 'Agressivo'), ['c2-b3', 'a7-b6', 'f2-g3', 'h7-g6', 'g3-g4', 'e7-f6', 'h2-g3', 'd7-c6', 'b3-b4', 'b6-b5', 'a2-b3', 'g6-g5', 'b4-a5', 'b5-b4', 'a5-b6', 'c7-b6', 'g4-f5', 'd8-c7', 'f5-g6', 'f7-g6', 'g3-g4', 'e8-f7', 'g4-f5', 'g6-f5', 'g2-g3', 'g5-g4', 'h1-g2', 'f6-g5', 'e2-d3', 'c6-c5', 'f1-e2', 'b6-b5', 'e2-e3', 'c7-c6', 'd1-e2', 'g7-f6', 'c1-c2', 'h8-g7', 'c2-c3', 'b4-c3', 'd2-c3', 'f7-g6', 'a1-a2', 'b7-b6', 'a2-a3', 'a8-b7', 'e1-d2', 'b8-c7', 'a3-b4', 'c5-b4', 'c3-b4', 'g8-f7', 'b4-a5', 'b6-a5', 'e3-d4', 'a5-b4', 'd4-e5', 'f6-e5', 'd2-e3', 'c6-c5', 'e2-f3', 'g4-f3', 'g2-f3', 'f7-f6', 'g1-g2', 'c7-c6', 'f3-g4', 'f5-g4', 'd3-e4', 'b7-b6', 'e4-d5', 'c6-d5', 'e3-f4', 'e5-f4', 'g3-f4', 'g5-f4', 'g2-g3', 'f4-g3', 'b2-a3', 'b4-a3', 'b1-b2', 'a3-b2', 'b3-a4', 'b2-c1'], -1)\n",
      "---------------------------\n",
      "(('Escolha', 'Agressivo'), ['a2-b3', 'a7-b6', 'h2-g3', 'h7-g6', 'f2-e3', 'd7-c6', 'c2-d3', 'e7-f6', 'e3-d4', 'c6-b5', 'd4-d5', 'b5-b4', 'd3-d4', 'b6-b5', 'g3-g4', 'g6-g5', 'd2-d3', 'g5-f4', 'c1-d2', 'f4-g3', 'd3-e4', 'f6-g5', 'e4-e5', 'g5-f4', 'g4-g5', 'g7-g6', 'd2-d3', 'h8-g7', 'd3-e4', 'b7-b6', 'e2-d3', 'a8-b7', 'f1-e2', 'e8-e7', 'd1-d2', 'd8-d7', 'd2-e3', 'f4-e3', 'e1-d2', 'e3-d2', 'd5-d6', 'd2-c1'], -1)\n",
      "---------------------------\n",
      "(('Escolha', 'Misto'), ['a2-b3', 'c7-b6', 'h2-g3', 'f7-g6', 'f2-e3', 'b6-b5', 'c2-d3', 'b5-b4', 'g3-g4', 'b4-c3', 'g4-g5', 'c3-d2', 'd3-e4', 'd2-e1'], -1)\n",
      "---------------------------\n"
     ]
    }
   ],
   "source": [
    "agressivoVSescolha = joga11(jogoBT, Agressivo, Escolha)\n",
    "\n",
    "print(agressivoVSescolha)\n",
    "print('---------------------------')\n",
    "\n",
    "agressivoVSmisto = joga11(jogoBT, Agressivo, Misto)\n",
    "\n",
    "print(agressivoVSmisto)\n",
    "print('---------------------------')\n",
    "\n",
    "mistoVSescolha = joga11(jogoBT, Misto, Escolha)\n",
    "\n",
    "print(mistoVSescolha)\n",
    "print('---------------------------')\n",
    "\n",
    "mistoVSagressivo = joga11(jogoBT, Misto, Agressivo)\n",
    "\n",
    "print(mistoVSagressivo)\n",
    "print('---------------------------')\n",
    "\n",
    "escolhaVSagressivo = joga11(jogoBT, Escolha, Agressivo)\n",
    "\n",
    "print(escolhaVSagressivo)\n",
    "print('---------------------------')\n",
    "\n",
    "escolhaVSmisto = joga11(jogoBT, Escolha, Misto)\n",
    "\n",
    "print(escolhaVSmisto)\n",
    "print('---------------------------')\n",
    "\n"
   ]
  },
  {
   "cell_type": "markdown",
   "metadata": {},
   "source": [
    "## Processo de selecção dos jogadores para o torneio\n",
    "Descreva o processo de selecção dos jogadores campeões, para entrar no campeonato \"todos contra todos\".\n",
    "\n"
   ]
  },
  {
   "cell_type": "markdown",
   "metadata": {},
   "source": [
    "De forma a fazermos a seleção final dos nossos jogadores para o torneio, decidimos efetuar vários torneios privados, de forma a verificar a perfromance dos nossos vários jogadores entre eles prórpios. Para tal, foram executados torneios com multiplas profundidades, começando a 1 com timeout=10s e terminando a 4 com timeout=20s. Um exemplo dos torneios efetuados a profundidade 1 encontra-se abaixo:"
   ]
  },
  {
   "cell_type": "code",
   "execution_count": 40,
   "metadata": {},
   "outputs": [
    {
     "name": "stdout",
     "output_type": "stream",
     "text": [
      "1 Agressivo Escolha --vencedor= Agressivo\n",
      "2 Agressivo Misto --vencedor= Agressivo\n",
      "3 Agressivo Belarmino --vencedor= Agressivo\n",
      "4 Escolha Agressivo --vencedor= Agressivo\n",
      "5 Escolha Misto --vencedor= Misto\n",
      "6 Escolha Belarmino --vencedor= Escolha\n",
      "7 Misto Agressivo --vencedor= Agressivo\n",
      "8 Misto Escolha --vencedor= Misto\n",
      "9 Misto Belarmino --vencedor= Misto\n",
      "10 Belarmino Agressivo --vencedor= Agressivo\n",
      "11 Belarmino Escolha --vencedor= Belarmino\n",
      "12 Belarmino Misto --vencedor= Misto\n",
      "JOGADOR VITÓRIAS\n",
      "Agressivo      6\n",
      "Misto          4\n",
      "Escolha        1\n",
      "Belarmino      1\n"
     ]
    }
   ],
   "source": [
    "faz_campeonato(jogoBT, [Agressivo, Escolha, Misto, Belarmino], 10)"
   ]
  },
  {
   "cell_type": "markdown",
   "metadata": {},
   "source": [
    "Como para as restantes profundidades os torneios demoram um tempo considerável, colocamos abaixo os resultados:\n",
    "\n",
    "-Profundidade=1, timeout=10s\n",
    "    \n",
    "    JOGADOR VITÓRIAS\n",
    "    Agressivo      6\n",
    "    Misto          4\n",
    "    Escolha        1\n",
    "    Belarmino      1\n",
    "\n",
    "-Profundidade=2, timeout=10s:\n",
    "    \n",
    "    JOGADOR VITÓRIAS\n",
    "    Agressivo      6\n",
    "    Misto          4\n",
    "    Belarmino      2\n",
    "    Escolha        0\n",
    "    \n",
    "-Profundidade=3, timeout=10s:\n",
    "\n",
    "    JOGADOR VITÓRIAS\n",
    "    Agressivo      5\n",
    "    Escolha        4\n",
    "    Misto          2\n",
    "    Belarmino      1\n",
    "    \n",
    "-Profundidade=4, timeout=20s:\n",
    "\n",
    "    JOGADOR VITÓRIAS\n",
    "    Misto          6\n",
    "    Belarmino      4\n",
    "    Escolha        2\n",
    "    Agressivo      0\n",
    "    \n",
    "    \n",
    "-Resultado Final:\n",
    "\n",
    "    JOGADOR VITÓRIAS\n",
    "    Agressivo      17\n",
    "    Misto          16\n",
    "    Escolha        7\n",
    "    Belarmino      8"
   ]
  },
  {
   "cell_type": "markdown",
   "metadata": {},
   "source": [
    "Com base nestes resultados, a primeira escolha seria o jogador Agressivo, porém, dado a sua má performance com profundidade 4 e timeout de 20s, decidimos utilizar um jogador mais consistente como submissão. Para participar no torneio de avaliação, elegemos então o jogador Misto."
   ]
  }
 ],
 "metadata": {
  "colab": {
   "collapsed_sections": [],
   "name": "Untitled0.ipynb",
   "provenance": [],
   "version": "0.3.2"
  },
  "kernelspec": {
   "display_name": "Python 3.11.0 64-bit",
   "language": "python",
   "name": "python3"
  },
  "language_info": {
   "codemirror_mode": {
    "name": "ipython",
    "version": 3
   },
   "file_extension": ".py",
   "mimetype": "text/x-python",
   "name": "python",
   "nbconvert_exporter": "python",
   "pygments_lexer": "ipython3",
   "version": "3.11.0"
  },
  "vscode": {
   "interpreter": {
    "hash": "3b03d3ad6b1336e6e4949d619e4badd72fec28959454a0e0d6a04b545beba08a"
   }
  }
 },
 "nbformat": 4,
 "nbformat_minor": 2
}
