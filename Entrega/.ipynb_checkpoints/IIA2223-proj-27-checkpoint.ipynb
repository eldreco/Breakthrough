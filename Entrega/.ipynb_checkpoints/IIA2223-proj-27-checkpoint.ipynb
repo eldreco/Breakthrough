{
 "cells": [
  {
   "cell_type": "markdown",
   "metadata": {
    "colab_type": "text",
    "id": "LekFEsVbua_R"
   },
   "source": [
    "#  Jogo BreakThrough\n",
    "\n",
    "## Introdução à Inteligência Artificial edição 2022/23\n",
    "### Projeto para avaliação\n",
    "\n",
    "<img src=\".\\images\\Picture0.png\" alt=\"Drawing\" style=\"width: 200px;\"/>"
   ]
  },
  {
   "cell_type": "markdown",
   "metadata": {},
   "source": [
    "### Grupo: 27\n",
    "\n",
    "#### Elementos do Grupo\n",
    "\n",
    "Nome: André Dias\n",
    "\n",
    "Número: 55314\n",
    "\n",
    "Nome: Miguel Cut\n",
    "\n",
    "Número: 56339\n",
    "\n",
    "Nome: David Pereira\n",
    "\n",
    "Número: 56361"
   ]
  },
  {
   "cell_type": "markdown",
   "metadata": {},
   "source": [
    "## Introdução\n",
    "Este trabalho foi feita do âmbito da disciplina Introdução à Inteligência Artifical e divide-se em duas partes principais. A primeira parte consiste na implementação do jogo BreakTrough. Já a segunda parte consiste na criação de um jogador inteligente para o jogo."
   ]
  },
  {
   "cell_type": "markdown",
   "metadata": {},
   "source": [
    "## Formulação do Jogo BreakThrough em termos de estados e de operadores"
   ]
  },
  {
   "cell_type": "markdown",
   "metadata": {},
   "source": [
    "### Representação dos estados do jogo"
   ]
  },
  {
   "cell_type": "markdown",
   "metadata": {},
   "source": [
    "De forma a representar o estado do jogo Breaktrough, e já pensando em possíveis formas de facilitar a implementação futura de jogadores, decidimos utilizar um namedTuple com os seguintes atributos:\n",
    "\n",
    "    -to_move: Indica o próximo jogador a efetuar uma jogado. Tem o valor 1 para as peças brancas e 2 para as pretas;\n",
    "    -utility: Indica o vencedor do jogo. Tem o valor de 1 para as peças brancas e -1 para as peças pretas;\n",
    "    -board: Representa o estado atual do jogo. Tem registo de todas as peças em jogo bem como da sua posição;\n",
    "    -whites:\n",
    "    -blacks:\n",
    "    -col_whites:\n",
    "    -col_blacks:\n",
    "    -line_whites:\n",
    "    -line_blacks:\n",
    "\n",
    "Sendo representado no código por:\n",
    "\n",
    "```python\n",
    "EstadoBT_27(to_move, utility, board, whites, blacks, col_whites, col_blacks, line_whites, line_blacks)\n",
    "```"
   ]
  },
  {
   "cell_type": "markdown",
   "metadata": {},
   "source": [
    "### Testes da formulação"
   ]
  },
  {
   "cell_type": "markdown",
   "metadata": {},
   "source": [
    "Antes de mais, é necessário importar as classes e métodos necessários para o funcionamento do jogo:"
   ]
  },
  {
   "cell_type": "code",
   "execution_count": 3,
   "metadata": {},
   "outputs": [],
   "source": [
    "from jogo27 import *\n",
    "from jogador27 import *\n",
    "from jogar import *"
   ]
  },
  {
   "cell_type": "markdown",
   "metadata": {},
   "source": [
    "#### Situações iniciais dos jogos\n",
    "Uso do construtor e \"display\" de jogos iniciais"
   ]
  },
  {
   "cell_type": "code",
   "execution_count": 5,
   "metadata": {},
   "outputs": [],
   "source": [
    "jogoBT = JogoBT_27()"
   ]
  },
  {
   "cell_type": "markdown",
   "metadata": {},
   "source": [
    "Construção de um novo jogo com a situação inicial seguinte:\n",
    "\n",
    "<img src=\".\\images\\Picture1.png\" alt=\"Drawing\" style=\"width: 150px;\"/>\n",
    "<p style=\"text-align: center;\">Figura 1</p>"
   ]
  },
  {
   "cell_type": "markdown",
   "metadata": {},
   "source": [
    "Eis o display desse estado inicial do jogo:"
   ]
  },
  {
   "cell_type": "code",
   "execution_count": null,
   "metadata": {},
   "outputs": [
    {
     "name": "stdout",
     "output_type": "stream",
     "text": [
      "-----------------\n",
      "8|B B B B B B B B \n",
      "7|B B B B B B B B \n",
      "6|. . . . . . . . \n",
      "5|. . . . . . . . \n",
      "4|. . . . . . . . \n",
      "3|. . . . . . . . \n",
      "2|W W W W W W W W \n",
      "1|W W W W W W W W \n",
      "-+---------------\n",
      " |a b c d e f g h\n",
      "--NEXT PLAYER: W\n"
     ]
    }
   ],
   "source": [
    "jogoBT.display(jogoBT.initial)"
   ]
  },
  {
   "cell_type": "markdown",
   "metadata": {},
   "source": [
    "## Jogos entre jogadores simples\n",
    "Nesta secção irão realizar alguns jogos, para verificar a modelização"
   ]
  },
  {
   "cell_type": "code",
   "execution_count": 11,
   "metadata": {},
   "outputs": [],
   "source": [
    "jogadorRandom1 = Jogador('Random1', random_player)\n",
    "jogadorRandom2 = Jogador('Random2', random_player)\n",
    "\n",
    "result12 = joga11(jogoBT, jogadorRandom1, jogadorRandom2)\n",
    "result21 = joga11(jogoBT, jogadorRandom2, jogadorRandom1)"
   ]
  },
  {
   "cell_type": "markdown",
   "metadata": {},
   "source": [
    "Faça o display de um dos jogos realizados atrás"
   ]
  },
  {
   "cell_type": "code",
   "execution_count": 13,
   "metadata": {},
   "outputs": [
    {
     "name": "stdout",
     "output_type": "stream",
     "text": [
      "(('Random1', 'Random2'), ['d2-c3', 'e7-e6', 'f2-f3', 'e6-e5', 'f3-e4', 'b7-b6', 'h2-h3', 'h7-g6', 'e4-d5', 'e5-d4', 'e1-d2', 'b6-a5', 'c3-d4', 'g7-h6', 'g1-f2', 'g8-g7', 'h1-h2', 'g6-f5', 'd2-d3', 'f5-g4', 'e2-f3', 'f7-g6', 'g2-g3', 'e8-e7', 'a2-a3', 'g4-h3', 'b2-c3', 'f8-f7', 'd3-e4', 'g7-f6', 'c3-c4', 'a5-b4', 'd1-d2', 'c7-d6', 'b1-a2', 'a8-b7', 'a3-a4', 'a7-a6', 'a2-b3', 'b8-c7', 'f3-f4', 'h8-h7', 'd5-e6', 'f6-g5', 'd2-e3', 'a6-b5', 'f2-f3', 'd6-e5', 'f4-g5', 'f7-f6', 'g5-h6', 'g6-f5', 'c4-d5', 'c7-d6', 'a1-a2', 'f5-e4', 'g3-f4', 'e4-d3', 'f1-e2', 'b7-b6', 'f3-g4', 'd3-c2', 'e2-f3', 'c8-c7', 'd4-c5', 'd7-c6', 'c1-b2', 'c6-d5', 'c5-c6', 'h7-g6', 'b3-c4', 'b6-c5', 'e3-e4', 'c7-b6', 'a4-a5', 'e5-d4', 'c6-c7', 'b5-a4', 'e6-f7', 'f6-e5', 'a5-a6', 'd8-c7', 'e4-d5', 'b4-b3', 'd5-c6', 'c5-b4', 'a6-a7', 'd4-d3', 'h6-g7', 'b3-a2', 'f4-f5', 'd6-c5', 'g4-h5', 'e5-e4', 'f7-e8'], 1)\n",
      "------------------------------------------\n",
      "(('Random2', 'Random1'), ['e2-f3', 'c7-c6', 'd2-e3', 'g7-f6', 'c1-d2', 'h7-g6', 'e3-e4', 'c6-b5', 'f3-f4', 'f6-g5', 'h2-h3', 'd7-c6', 'f2-g3', 'c6-d5', 'f4-f5', 'g6-h5', 'e4-e5', 'b7-a6', 'g2-f3', 'a7-b6', 'd2-c3', 'c8-b7', 'e1-f2', 'f7-g6', 'g3-h4', 'b6-a5', 'a2-b3', 'a5-a4', 'g1-h2', 'b7-b6', 'f5-f6', 'b8-b7', 'f6-g7', 'b7-c6', 'g7-h8'], 1)\n"
     ]
    }
   ],
   "source": [
    "print(result12)\n",
    "print('------------------------------------------')\n",
    "print(result21)"
   ]
  },
  {
   "cell_type": "markdown",
   "metadata": {},
   "source": [
    "## Exemplos de jogadores alfabeta\n",
    " Descreva e teste nesta secção as várias funções de avaliação desenvolvidas tanto para o ataque como para a defesa."
   ]
  },
  {
   "cell_type": "markdown",
   "metadata": {},
   "source": [
    "Ao longo do projeto desenvolvemos vários tipos de jogadores. Uns mais focados na defesa, uns mais focados no ataque e alguns que tentavam chegar a um consenso entre os dois métodos. Segue-se a descrição dos vários jogadores por nós criados, bem como exemplos do seu tipo de jogadas."
   ]
  },
  {
   "cell_type": "code",
   "execution_count": 18,
   "metadata": {},
   "outputs": [
    {
     "ename": "NameError",
     "evalue": "name 'func_aval_misto_27' is not defined",
     "output_type": "error",
     "traceback": [
      "\u001b[1;31m---------------------------------------------------------------------------\u001b[0m",
      "\u001b[1;31mNameError\u001b[0m                                 Traceback (most recent call last)",
      "Input \u001b[1;32mIn [18]\u001b[0m, in \u001b[0;36m<cell line: 16>\u001b[1;34m()\u001b[0m\n\u001b[0;32m     11\u001b[0m Escolha \u001b[38;5;241m=\u001b[39m JogadorAlfaBeta(\u001b[38;5;124m'\u001b[39m\u001b[38;5;124mEscolha\u001b[39m\u001b[38;5;124m'\u001b[39m, \u001b[38;5;241m1\u001b[39m, func_aval_escolha_27)\n\u001b[0;32m     13\u001b[0m \u001b[38;5;66;03m#Misto - Este jogador apresente aspetos dos dois anteriores, porém, não está dependente da peça em que começa.\u001b[39;00m\n\u001b[0;32m     14\u001b[0m \u001b[38;5;66;03m# O jogador avalia o estado, decidindo se é preferível atacar e avançar, ou jogar com calma e defender.\u001b[39;00m\n\u001b[1;32m---> 16\u001b[0m Misto \u001b[38;5;241m=\u001b[39m JogadorAlfaBeta(\u001b[38;5;124m'\u001b[39m\u001b[38;5;124mMisto\u001b[39m\u001b[38;5;124m'\u001b[39m, \u001b[38;5;241m1\u001b[39m, \u001b[43mfunc_aval_misto_27\u001b[49m)\n\u001b[0;32m     18\u001b[0m \u001b[38;5;66;03m#Belarmino - Este é o jogador base, cujo funcionamento foi descrito pelos professores.\u001b[39;00m\n\u001b[0;32m     20\u001b[0m Belarmino \u001b[38;5;241m=\u001b[39m JogadorAlfaBeta(\u001b[38;5;124m'\u001b[39m\u001b[38;5;124mBelarmino\u001b[39m\u001b[38;5;124m'\u001b[39m, \u001b[38;5;241m1\u001b[39m, func_aval_Belarmino_27)\n",
      "\u001b[1;31mNameError\u001b[0m: name 'func_aval_misto_27' is not defined"
     ]
    }
   ],
   "source": [
    "#Agressivo - Este jogador tem como objetivo avançar o mais para a frente possível, ocupando as colunas ímpares e \n",
    "#capturando peças ao adversário sempre que tiver oportunidade.\n",
    "\n",
    "Agressivo = JogadorAlfaBeta('Agressivo', 1, func_aval_agressivo_27)\n",
    "\n",
    "#Escolha - Este jogador tem uma componente agressiva e defensiva. A componente agressiva é executada se o jogador\n",
    "#começar nas peças brancas. Já a componente defensiva é executada caso o jogador comece nas peças pretas. A componente\n",
    "#agressiva consiste no jogador agressivo demonstrado anteriormente e a componente defensiva consiste em jogar de forma\n",
    "#passiva, ficando avnçando o minimo possível e comemendo peças sempre que exista oportunidade.\n",
    "\n",
    "Escolha = JogadorAlfaBeta('Escolha', 1, func_aval_escolha_27)\n",
    "\n",
    "#Misto - Este jogador apresente aspetos dos dois anteriores, porém, não está dependente da peça em que começa.\n",
    "# O jogador avalia o estado, decidindo se é preferível atacar e avançar, ou jogar com calma e defender.\n",
    "\n",
    "Misto = JogadorAlfaBeta('Misto', 1, func_aval_Misto_27)\n",
    "\n",
    "#Belarmino - Este é o jogador base, cujo funcionamento foi descrito pelos professores.\n",
    "\n",
    "Belarmino = JogadorAlfaBeta('Belarmino', 1, func_aval_Belarmino_27)"
   ]
  },
  {
   "cell_type": "markdown",
   "metadata": {},
   "source": [
    "## Exemplos de jogos entre alguns desses jogadores e o Belarmino"
   ]
  },
  {
   "cell_type": "code",
   "execution_count": null,
   "metadata": {},
   "outputs": [],
   "source": []
  },
  {
   "cell_type": "markdown",
   "metadata": {},
   "source": [
    "## Exemplos de jogos entre dois dos vários jogadores desenvolvidos"
   ]
  },
  {
   "cell_type": "code",
   "execution_count": null,
   "metadata": {},
   "outputs": [],
   "source": []
  },
  {
   "cell_type": "markdown",
   "metadata": {},
   "source": [
    "## Processo de selecção dos jogadores para o torneio\n",
    "Descreva o processo de selecção dos jogadores campeões, para entrar no campeonato \"todos contra todos\".\n",
    "\n"
   ]
  },
  {
   "cell_type": "markdown",
   "metadata": {},
   "source": [
    "*...aqui* \n",
    "\n",
    "<span style=\"color:magenta\"> É a parte mais importante do relatório, justificando porque convocaram o vosso Ronaldo para o campeonato. Se jogaram com vários jogadores (ou seja, várias funções de avaliação) e fizeram um torneio privado de selecção, podem apresentar aqui uma tabela com esses dados. </span>"
   ]
  },
  {
   "cell_type": "code",
   "execution_count": null,
   "metadata": {},
   "outputs": [],
   "source": []
  }
 ],
 "metadata": {
  "colab": {
   "collapsed_sections": [],
   "name": "Untitled0.ipynb",
   "provenance": [],
   "version": "0.3.2"
  },
  "kernelspec": {
   "display_name": "Python 3 (ipykernel)",
   "language": "python",
   "name": "python3"
  },
  "language_info": {
   "codemirror_mode": {
    "name": "ipython",
    "version": 3
   },
   "file_extension": ".py",
   "mimetype": "text/x-python",
   "name": "python",
   "nbconvert_exporter": "python",
   "pygments_lexer": "ipython3",
   "version": "3.9.12"
  },
  "vscode": {
   "interpreter": {
    "hash": "b9e65cb77f1891b0fad984b4903abaedd4f660b1198531a108820a313d596ea6"
   }
  }
 },
 "nbformat": 4,
 "nbformat_minor": 2
}
